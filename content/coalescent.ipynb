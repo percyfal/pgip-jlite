{
 "cells": [
  {
   "cell_type": "code",
   "execution_count": null,
   "id": "a0b0f70f",
   "metadata": {},
   "outputs": [],
   "source": [
    "# Please execute this cell (shift+<Return>) before starting the workbook\n",
    "# this should print out \"Your notebook is ready to go\"\n",
    "import sys\n",
    "import tskit\n",
    "import pandas as pd\n",
    "import networkx as nx\n",
    "import matplotlib.pyplot as plt\n",
    "\n",
    "if \"pyodide\" in sys.modules:\n",
    "    import tqdm\n",
    "    import micropip\n",
    "    await micropip.install('jupyterquiz')\n",
    "    await micropip.install('seaborn')\n",
    "    await micropip.install('scipy')\n",
    "import scipy\n",
    "import wf\n",
    "import workshop\n",
    "workbook = workshop.setup_coalescent_handson()\n",
    "display(workbook.setup)"
   ]
  },
  {
   "cell_type": "markdown",
   "id": "c1db47b1",
   "metadata": {},
   "source": [
    "# A hands-on introduction to the coalescent\n"
   ]
  },
  {
   "cell_type": "markdown",
   "id": "3ed9df37",
   "metadata": {},
   "source": [
    "In this exercise the goal is to gain an understanding of how the coalescent works by recreating the algorithm step by step. "
   ]
  },
  {
   "cell_type": "markdown",
   "id": "c6ee57ec",
   "metadata": {},
   "source": [
    "# Pen and paper coalescent\n",
    "\n",
    "We will start by tracing out the coalescent with pen and paper, only using the workbook to generate draws from the exponential distribution. Make sure to take your time going through each step so you understand what is going on. You can visualize the steps below, but I urge you to actually make the drawing by hand.\n",
    "\n"
   ]
  },
  {
   "cell_type": "markdown",
   "id": "9441047a",
   "metadata": {},
   "source": [
    "## Creating the genealogy\n",
    "\n",
    "Let's create a genealogy for $n=4$ individuals. The algorithm to create a genealogy is as follows (taken from Hahn 2018):\n",
    "\n",
    "<b>Algorithm: genealogy creation</b>\n",
    "<ol>\n",
    "    <li>Start with $i=n$ chromosomes</li>\n",
    "    <li>Choose time to next coalescent event from an exponential distribution with parameter $\\lambda=i(i-1)/2$</li>\n",
    "    <li>Choose two chromosomes at random to coalesce</li>\n",
    "    <li>Merge the two lineages and set $i \\rightarrow i - 1$</li>\n",
    "    <li>If $i>1$, go to step 2; if not, stop.</li>\n",
    "</ol>"
   ]
  },
  {
   "cell_type": "markdown",
   "id": "f993821e",
   "metadata": {},
   "source": [
    "<dl class=\"exercise\"><dt>Exercise 1</dt>\n",
    "    <dd>Draw four circles next to each other and label them 1-4. Simulate the waiting time with the code below and randomly choose two chromosomes to coalesce. Draw a new circle at a distance proportional to the waiting time above the four circles, label it 5, and connect it with the two coalescing chromosomes. Repeat the procedure by generating a new waiting time and selecting two chromosomes from label 5 and the two uncoalesced start chromosomes, draw a new circle labelled 6 above the four circles and connect to the coalescing chromosomes. Repeat the procedure one last time.</dd>\n",
    "</dl>"
   ]
  },
  {
   "cell_type": "code",
   "execution_count": null,
   "id": "5356f4f1",
   "metadata": {},
   "outputs": [],
   "source": [
    "# Simulate exponential variable. NB: scipy.stats uses the *scale* parametrization beta=1/lambda  \n",
    "lmbda = 6\n",
    "scipy.stats.expon(scale=1/lmbda).rvs()"
   ]
  },
  {
   "cell_type": "code",
   "execution_count": null,
   "id": "32f7be16",
   "metadata": {},
   "outputs": [],
   "source": [
    "workbook.question(\"Q1\")"
   ]
  }
 ],
 "metadata": {
  "kernelspec": {
   "display_name": "Python (pgip-jlite)",
   "language": "python",
   "name": "pgip-jlite"
  },
  "language_info": {
   "codemirror_mode": {
    "name": "ipython",
    "version": 3
   },
   "file_extension": ".py",
   "mimetype": "text/x-python",
   "name": "python",
   "nbconvert_exporter": "python",
   "pygments_lexer": "ipython3",
   "version": "3.10.11"
  }
 },
 "nbformat": 4,
 "nbformat_minor": 5
}
