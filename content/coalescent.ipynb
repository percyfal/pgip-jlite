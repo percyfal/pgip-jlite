{
 "cells": [
  {
   "cell_type": "code",
   "execution_count": null,
   "id": "a0b0f70f",
   "metadata": {},
   "outputs": [],
   "source": [
    "# Please execute this cell (shift+<Return>) before starting the workbook\n",
    "# this should print out \"Your notebook is ready to go\"\n",
    "import sys\n",
    "import tskit\n",
    "import pandas as pd\n",
    "import numpy as np\n",
    "import networkx as nx\n",
    "import random\n",
    "\n",
    "if \"pyodide\" in sys.modules:\n",
    "    import tqdm\n",
    "    import micropip\n",
    "    await micropip.install('jupyterquiz')\n",
    "    await micropip.install('seaborn')\n",
    "    await micropip.install('scipy')\n",
    "    await micropip.install('drawsvg')\n",
    "    await micropip.install('pyyaml')\n",
    "import scipy\n",
    "import model\n",
    "from model import wf\n",
    "from model import coal\n",
    "from model.draw import plot_ancestry\n",
    "import workshop\n",
    "workbook = workshop.setup_coalescent_handson()\n",
    "display(workbook.setup)"
   ]
  },
  {
   "cell_type": "markdown",
   "id": "c1db47b1",
   "metadata": {},
   "source": [
    "# A hands-on introduction to the coalescent\n"
   ]
  },
  {
   "cell_type": "markdown",
   "id": "3ed9df37",
   "metadata": {},
   "source": [
    "In this exercise the goal is to gain an understanding of how the coalescent works by recreating the algorithm step by step. "
   ]
  },
  {
   "cell_type": "markdown",
   "id": "b7731ece",
   "metadata": {},
   "source": [
    "## Some basic properties of the coalescent\n",
    "\n",
    "Before we start generating coalescent trees, we recapitulate some basic properties and terminology. \n",
    "\n"
   ]
  },
  {
   "cell_type": "markdown",
   "id": "78d984b7",
   "metadata": {},
   "source": [
    "<img src=\"data/coalescent.svg\" width=300  />"
   ]
  },
  {
   "cell_type": "markdown",
   "id": "bfdbc408",
   "metadata": {},
   "source": [
    "The figure above shows a *coalescent tree* or a *genealogy*. The dotted lines highlight time slices $T_i$ that correspond to the *waiting time* for a coalescent event when there are $i$ chromosomes. The waiting time is [*exponentially distributed*](https://en.wikipedia.org/wiki/Exponential_distribution) with intensity $\\lambda=\\frac{i(i-1)}{2}$ (but see note on time scales below), such that the expected waiting time in state $i$ is \n",
    "\n",
    "$$\n",
    "E(T_i) = \\frac{2}{i(i-1)}\n",
    "$$\n",
    "\n",
    "As an example, in this time scale, $E(T_2)=1$. Using the expected waiting times we can infer the expected branch lengths, represented by $\\tau_j$ in the illustration. For instance, $\\tau_4=T_5$, whereas $\\tau_2=T_5 + T_4$, and so on.\n",
    "\n",
    "The *total tree height*, or the time to the most recent common ancestor (MRCA) $T_{MRCA}$, is \n",
    "\n",
    "$$\n",
    "T_{MRCA} = \\sum_{i=2}^n T_i\n",
    "$$\n",
    "\n",
    "with expected value\n",
    "\n",
    "$$\n",
    "E(T_{MRCA}) = \\sum_{i=2}^nE(T_i) = 2\\sum_{i=2}^n\\frac{1}{j(j-1)} = 2\\left(1 - \\frac{1}{n}\\right)\n",
    "$$\n",
    "\n",
    "which converges to $E(T_{MRCA})=2$ as $n\\rightarrow\\infty$. This means that since $E(T_2)=1$, on average a coalescent process spends half of its time waiting for the two last chromosomes to coalesce. A corollary to this is that the return on investment of adding new samples diminishes quickly in terms of adding time to the MRCA."
   ]
  },
  {
   "cell_type": "code",
   "execution_count": null,
   "id": "2d44db70",
   "metadata": {},
   "outputs": [],
   "source": [
    "workbook.question(\"Q0a\")"
   ]
  },
  {
   "cell_type": "markdown",
   "id": "eb00aff5",
   "metadata": {},
   "source": [
    "Finally, one can show that the expected *total tree length* is\n",
    "\n",
    "$$\n",
    "E(T_{total}) = \\sum_{i=2}^n iE(T_i) = \\sum_{i=2}^n i\\frac{2}{i(i-1)} = 2\\sum_{i=2}^n\\frac{1}{i-1}\n",
    "$$"
   ]
  },
  {
   "cell_type": "markdown",
   "id": "4bc1752d",
   "metadata": {},
   "source": [
    "<div class=\"alert alert-block alert-info\"><b>A note on time scales</b>\n",
    "    <br/>\n",
    "   \n",
    "The basic results regarding some simple properties of coalescent trees may differ according to the choice of time scale. The Wright-Fisher model uses *discrete* generations, where the average time it takes for two chromosome to find a common ancestor is 2N generations. It may however be conceptually and computationally advantageous to employ a *continuous time approximation*, in which one unit of time is some factor of the population size 2N (the average time for two chromosomes to coalesce). Some treatments use N or 4N as scaling factor, which lead to a factor 2 difference in some of the results. \n",
    "    \n",
    "For instance, the coalescent simulator ms scales time in units of 4N, whereas msprime, which we will look at in the next exercise, measures time in generations. For more information on different ways of scaling, see\n",
    " <a href=\"https://tskit.dev/msprime/docs/stable/switch_from_other_simulators.html#scaled-parameters\">msprime documentation on scaled parameters</a>.\n",
    "\n",
    "    \n",
    "In what follows, one unit of time is equivalent to 2N generations. This has the appealing property that the expressions only depend on the number of chromosomes at a given time step.</div>"
   ]
  },
  {
   "cell_type": "markdown",
   "id": "a9b601ab",
   "metadata": {},
   "source": [
    "## On mutations\n",
    "\n",
    "Whereas coalescent waiting times are exponentially distributed, mutations occur according to a [*Poisson process*](https://en.wikipedia.org/wiki/Poisson_distribution) with intensity $t\\theta/2$, where $t$ is the elapsed time, and $\\theta$ is the *population mutation parameter*. Since the expected value of a Poisson random variable is equal to its intensity, the expected number of mutations $M_t$ occurring during time $t$ is \n",
    "\n",
    "$$\n",
    "E(M_t) = \\frac{t\\theta}{2}\n",
    "$$\n",
    "\n",
    "This has important implications. To begin with, the expected number of mutations is proportional to time, which translated to a tree means the number of mutations are proportional to branch length.\n",
    "Furthermore, the total expected number of mutations $M_T$ for a coalescent tree with total tree branch length $T_{total}$ is\n",
    "\n",
    "$$\n",
    "M_T = \\frac{T_{total}\\theta}{2}\n",
    "$$\n",
    "\n",
    "Knowing the parameter $\\theta$ and the total tree branch length $T_{total}$, we can then sample a number of mutations from a Poisson distribution with intensity $\\theta T_{total}/2$ and sprinkle the mutations on the tree branches."
   ]
  },
  {
   "cell_type": "markdown",
   "id": "c6ee57ec",
   "metadata": {},
   "source": [
    "# Pen and paper coalescent\n",
    "\n",
    "We will start by tracing out the coalescent with pen and paper, only using the workbook to generate draws from the exponential or Poisson distribution. Make sure to take your time going through each step so you understand what is going on.\n"
   ]
  },
  {
   "cell_type": "markdown",
   "id": "9441047a",
   "metadata": {},
   "source": [
    "## Creating the genealogy\n",
    "\n",
    "Let's create a genealogy for $n=4$ individuals. The algorithm to create a genealogy is as follows (taken from Hahn 2018):\n",
    "\n",
    "<b>Algorithm: genealogy creation</b>\n",
    "<ol>\n",
    "    <li>Start with $i=n$ chromosomes</li>\n",
    "    <li>Choose time to next coalescent event from an exponential distribution with parameter $\\lambda=i(i-1)/2$</li>\n",
    "    <li>Choose two chromosomes at random to coalesce</li>\n",
    "    <li>Merge the two lineages and set $i \\rightarrow i - 1$</li>\n",
    "    <li>If $i>1$, go to step 2; if not, stop.</li>\n",
    "</ol>"
   ]
  },
  {
   "cell_type": "markdown",
   "id": "057dc0a4",
   "metadata": {},
   "source": [
    "Although the algorithm describes the outline for generating a genealogy, an implementation needs to do a little book-keeping. \n",
    "\n",
    "Step 2 implies that we need to keep track of the elapsed time looking backwards somehow (call it \"age\"). Starting from time 0, all $n$ samples (leaves) have age 0, the first coalescent chromosome age $T_n$, the second coalescent chromosome age $T_n + T_{n-1}$, and so on. Individual branch lengths $\\tau_i$ connecting child $i$ with its parent can then be obtained as the age of the parent minus the age of the child.\n",
    "\n",
    "Step 3 implies we need to keep track of the chromosomes that haven't coalesced yet. Whenever two nodes coalesce into a parent, the children are removed from the remaining list of chromosomes and the parent id added to it."
   ]
  },
  {
   "cell_type": "markdown",
   "id": "f993821e",
   "metadata": {},
   "source": [
    "<dl class=\"exercise\"><dt>Exercise 1</dt>\n",
    "    <dd>Draw four circles next to each other and label them 1-4. Simulate the waiting time with the code below and randomly choose two chromosomes to coalesce. Draw a new circle at a distance proportional to the waiting time above the four circles, label it 5, and connect it with the two coalescing chromosomes. Repeat the procedure by generating a new waiting time and selecting two chromosomes from label 5 and the two uncoalesced start chromosomes, draw a new circle labelled 6 above the four circles and connect to the coalescing chromosomes. Repeat the procedure one last time.\n",
    "    </dd>\n",
    "    <dd>\n",
    "    \n",
    "In order to facilitate placement of mutations, I recommend you also keep track of the individual branch lengths (equivalent to the time separating a child from its parent). For instance, you could let $t_{ij}$ denote the length of the branch between nodes $i$ and $j$, where $i$ is the child and $j$ the parent index.\n",
    "    </dd>\n",
    "</dl>"
   ]
  },
  {
   "cell_type": "code",
   "execution_count": null,
   "id": "5356f4f1",
   "metadata": {},
   "outputs": [],
   "source": [
    "# Simulate exponential variable.\n",
    "# NB: scipy.stats uses the *scale* parametrization beta=1/lambda  \n",
    "lmbda = 6\n",
    "scipy.stats.expon(scale=1/lmbda).rvs()"
   ]
  },
  {
   "cell_type": "code",
   "execution_count": null,
   "id": "32f7be16",
   "metadata": {},
   "outputs": [],
   "source": [
    "workbook.question(\"Q1\")"
   ]
  },
  {
   "cell_type": "markdown",
   "id": "bdf5650d",
   "metadata": {},
   "source": [
    "When you're done, you should have something similar to the genealogy shown below (note however that your genealogy will have a different topology and different branch lengths due to the stochastic nature of coalescent waiting times and ordering)."
   ]
  },
  {
   "cell_type": "code",
   "execution_count": null,
   "id": "29ba085a",
   "metadata": {},
   "outputs": [],
   "source": [
    "workbook.draw(\"coalescent_tree\")"
   ]
  },
  {
   "cell_type": "markdown",
   "id": "f2cb9a03",
   "metadata": {},
   "source": [
    "In this example, the branch length connecting nodes 2 and 4 could be called $t_{24}$ (note that that length equals that of $t_{34}$), and so on. The total tree branch length $T_{total}$ is then the sum of all individual branches $t_{ij}$."
   ]
  },
  {
   "cell_type": "markdown",
   "id": "accebff5",
   "metadata": {},
   "source": [
    "## Adding mutations\n",
    "\n",
    "Once you have generated a genealogy, it is time to add mutations. We will generate a number of mutations as a Poisson random variable and \"throw\" the mutations onto branches, where the probability of ending up on a particular branch is proportional to its length with respect to the total tree branch length $T_{total}$. Since we have a simulated tree with known branch lengths $t_{ij}$ (and hence total tree length), we can *condition* on $T_{total}$ and choose a value of $\\theta$ to generate an expected number of mutations $S$. \n",
    "\n",
    "The total number of mutations is Poisson distributed with mean $T_{total}\\theta/2$, where $\\theta=4N_e\\mu$ is the *population mutation rate*."
   ]
  },
  {
   "cell_type": "code",
   "execution_count": null,
   "id": "97827806",
   "metadata": {},
   "outputs": [],
   "source": [
    "workbook.question(\"Q2\")"
   ]
  },
  {
   "cell_type": "markdown",
   "id": "75f82e1f",
   "metadata": {},
   "source": [
    "Let's choose $\\theta$ so the expected number of mutations is $S=5$."
   ]
  },
  {
   "cell_type": "code",
   "execution_count": null,
   "id": "25832cb4",
   "metadata": {},
   "outputs": [],
   "source": [
    "workbook.question(\"Q3\")"
   ]
  },
  {
   "cell_type": "markdown",
   "id": "b2f6bf47",
   "metadata": {},
   "source": [
    "<dl class=\"exercise\"><dt>Exercise 2</dt>\n",
    "    <dd>Now that you have $T_{total}$ and $\\theta$ we can simulate $S$, the number of mutations or the number of *segregating sites*. Also, using the individual branch lengths $t_{ij}$ as weights, for each mutation we can simulate what branch to put it on.\n",
    "\n",
    "Fill in the values for $T_{total}$, $\\theta$, and the vector of branch lengths below and run the code.\n",
    "    </dd>\n",
    "    </dl>"
   ]
  },
  {
   "cell_type": "code",
   "execution_count": null,
   "id": "49fef4d6",
   "metadata": {},
   "outputs": [],
   "source": [
    "# Change the values below to the ones you obtained from your simulation\n",
    "T_total = 3\n",
    "theta = 10/3\n",
    "# Change labels of tij in case your tree topology is different\n",
    "tij = {\"t15\": 0.2,\n",
    "       \"t25\": 0.2,\n",
    "       \"t56\": 0.15,\n",
    "       \"t36\": 0.35,\n",
    "       \"t67\": 1.05,\n",
    "       \"t47\": 1.95}\n",
    "# Weight the values\n",
    "p = np.array(list(tij.values()))\n",
    "p = p / np.sum(p)\n",
    "S = scipy.stats.poisson(theta*T_total/2).rvs()\n",
    "# NB: We \"flatten\" the value return by the multinomial so we can use zip in \n",
    "# the next step to map outputs to the dictionary keys\n",
    "i = scipy.stats.multinomial(n=S, p=p).rvs().flatten()\n",
    "mutations_per_branch = dict(zip(tij.keys(), i))\n",
    "mutations_per_branch, S"
   ]
  },
  {
   "cell_type": "markdown",
   "id": "6d37fa8a",
   "metadata": {},
   "source": [
    "If all goes well, you should get a dictionary that tells you how many mutations fall on what branch, and as sanity check the number of segregating sites $S$. In your drawing, mark with 'x' the mutations on each branch. Letting `0` represent the ancestral state and `1` the derived state, can you derive the sample sequences?"
   ]
  },
  {
   "cell_type": "markdown",
   "id": "0313fcfe",
   "metadata": {},
   "source": [
    "<div class=\"alert alert-block alert-info\"><b>A note on order of mutations</b>\n",
    "    <br/>\n",
    "In the simulation above, there is no explicit ordering of mutations. However, it would be easy to improve the procedure above by, for instance, looping over the mutations to make one multinomial draw at a time and labelling mutations by order of occurrence.\n",
    "\n",
    "</div>"
   ]
  },
  {
   "cell_type": "markdown",
   "id": "014d306b",
   "metadata": {},
   "source": [
    "# Coded coalescent\n",
    "\n",
    "In this section, we will code the coalescent using python. Briefly, we need to transfer the manual steps from above into code. You will be asked to write two functions building on existing code snippets. And don't worry if python is not your language of choice, there are prepared functions that you can use as is. I still urge you to think through what code would be needed, and of course, don't hesitate to ask your teachers!"
   ]
  },
  {
   "cell_type": "markdown",
   "id": "ff97379a",
   "metadata": {},
   "source": [
    "## Simulating the ancestry\n",
    "\n",
    "We begin by writing a function called `sim_ancestry` whose goal is to simulate genealogies. The input should simply be the number of *samples*, which is equivalent to the number of leaves. We also need to know how many nodes and edges there are in a tree."
   ]
  },
  {
   "cell_type": "code",
   "execution_count": null,
   "id": "79d00dd9",
   "metadata": {},
   "outputs": [],
   "source": [
    "workbook.question(\"Q4a\")"
   ]
  },
  {
   "cell_type": "code",
   "execution_count": null,
   "id": "8632413c",
   "metadata": {},
   "outputs": [],
   "source": [
    "workbook.question(\"Q4b\")"
   ]
  },
  {
   "cell_type": "markdown",
   "id": "bcdb6d3c",
   "metadata": {},
   "source": [
    "Based on the information above, we could store the node ids in a list `nodes`, ranging from 0 to the number nodes you just derived. Then, the first $n$ entries correspond to the samples (the leaves in the tree), and the entries from position $n+1$ and onwards are internal nodes that correspond to ancestral chromosomes. We also need a list `ancestors` to store the ancestor of a node; this list can be one entry shorter than `nodes` since the root node by definition has no ancestor. Finally, we need a list `branches` that stores branch lengths, where an entry at index `i` corresponds to the branch length starting at the entry in `nodes[i]` (child) with the entry in `ancestors[i]` (parent).\n"
   ]
  },
  {
   "cell_type": "markdown",
   "id": "62c13d22",
   "metadata": {},
   "source": [
    "<dl class=\"exercise\"><dt>Exercise 3</dt>\n",
    "    <dd>\n",
    "        Complete the function <tt>sim_ancestry</tt> below and run some simulations. The function will return a list <tt>ancestors</tt> that stores the ancestor of node $i$ at position $i$ in the list. <tt>branches</tt> is the list of branch lengths $\\tau_i$. \n",
    "    </dd>\n",
    "    </dl>"
   ]
  },
  {
   "cell_type": "code",
   "execution_count": null,
   "id": "2e33087a",
   "metadata": {},
   "outputs": [],
   "source": [
    "def sim_ancestry(samples):\n",
    "    # Fill in the length of the nodes, ancestors, branches,\n",
    "    # and age vectors. The argument to range is an integer.\n",
    "    nodes = list(range( ))\n",
    "    ancestors = list(range( ))\n",
    "    branches = list(range( ))\n",
    "    age = [0] * ( )\n",
    "    uncoalesced = list(range(samples))\n",
    "    i = samples\n",
    "    current_time = 0\n",
    "    while i > 1:\n",
    "        lmbda = i*(i-1)/2\n",
    "        t = scipy.stats.expon(scale=1/lmbda).rvs()\n",
    "        # update current_time\n",
    "        # current_time = \n",
    "        parent = max(uncoalesced) + 1\n",
    "        age[parent] = current_time\n",
    "        child1, child2 = random.sample(uncoalesced, 2)\n",
    "        ancestors[child1] = parent\n",
    "        ancestors[child2] = parent\n",
    "        uncoalesced.remove(child1)\n",
    "        uncoalesced.remove(child2)\n",
    "        uncoalesced.append(parent)\n",
    "        i = i - 1\n",
    "    # Calculate branch lengths from node j as the age af the parent \n",
    "    for j in nodes[0:len(ancestors)]:\n",
    "        branches[j] = age[ancestors[j]] - age[j]\n",
    "    return ancestors, branches"
   ]
  },
  {
   "cell_type": "markdown",
   "id": "8f4ac220",
   "metadata": {},
   "source": [
    "Once you have a function that hopefully works, you can generate the  `ancestors` and `branches` lists. There is a utility function in `model.draw` that lets you draw the ancestry (see below). Make some simulations of varying sample sizes and plot the results."
   ]
  },
  {
   "cell_type": "code",
   "execution_count": null,
   "id": "96a97e2e",
   "metadata": {},
   "outputs": [],
   "source": [
    "plot_ancestry(ancestors, branches, width=400, height=500, \n",
    "              node_size=3, node_labels=True, jitter_label=(0, 20),\n",
    "             show_internal=False)"
   ]
  },
  {
   "cell_type": "markdown",
   "id": "38dd849f",
   "metadata": {},
   "source": [
    "## Simulating mutations\n",
    "\n",
    "Goal: provide code to simulate mutations, call function sim_mutations. \n",
    "\n",
    "Point out that we are \"throwing\" mutations on an existing tree, much like msprime throws mutations on a tree sequence.\n"
   ]
  }
 ],
 "metadata": {
  "kernelspec": {
   "display_name": "Python (pgip-jlite)",
   "language": "python",
   "name": "pgip-jlite"
  },
  "language_info": {
   "codemirror_mode": {
    "name": "ipython",
    "version": 3
   },
   "file_extension": ".py",
   "mimetype": "text/x-python",
   "name": "python",
   "nbconvert_exporter": "python",
   "pygments_lexer": "ipython3",
   "version": "3.10.11"
  }
 },
 "nbformat": 4,
 "nbformat_minor": 5
}
