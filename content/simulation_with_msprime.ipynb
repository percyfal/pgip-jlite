{
 "cells": [
  {
   "cell_type": "code",
   "execution_count": null,
   "id": "12344a8d",
   "metadata": {},
   "outputs": [],
   "source": [
    "import sys\n",
    "import tskit\n",
    "import msprime\n",
    "\n",
    "\n",
    "if \"pyodide\" in sys.modules:\n",
    "    import tqdm\n",
    "    import micropip\n",
    "    await micropip.install('jupyterquiz')\n",
    "    await micropip.install('demesdraw')\n",
    "\n",
    "\n",
    "import workshop\n",
    "workbook = workshop.setup_msprime_simulations()\n",
    "display(workbook.setup)"
   ]
  },
  {
   "cell_type": "markdown",
   "id": "46556514",
   "metadata": {},
   "source": [
    "# An introduction to simulations with msprime"
   ]
  },
  {
   "cell_type": "markdown",
   "id": "a2bdf30f",
   "metadata": {},
   "source": [
    "In this exercise we will acquaint ourselves with the extremely efficient and versatile coalescent simulator [msprime](https://tskit.dev/msprime/docs/stable/intro.html). It ows much of its efficiency to the [tskit](https://tskit.dev/) (tree sequence kit) format to efficiently store and process genetic and phylogenetic data. Together with other software that use this file format, it makes up an ecosystem of high performant population genetic tools.\n",
    "\n",
    "We will start by reproducing simulations similar to those in the previous exercise, after which we move on to more advanced examples. Many of the examples here are taken from the [msprime quickstart](https://tskit.dev/msprime/docs/stable/quickstart.html) and documentation.\n"
   ]
  },
  {
   "cell_type": "markdown",
   "id": "29253cc1",
   "metadata": {},
   "source": [
    "## Basic simulations\n",
    "\n",
    "Briefly, coalescent simulations in msprime are done by calling two functions in succession which, by coincidence 😉, are called `sim_ancestry` and `sim_mutations`. "
   ]
  },
  {
   "cell_type": "markdown",
   "id": "2569f4c5",
   "metadata": {},
   "source": [
    "### Getting to know the tree sequence object"
   ]
  },
  {
   "cell_type": "markdown",
   "id": "2a630818",
   "metadata": {},
   "source": [
    "Let's first simulate the [ancestry](https://tskit.dev/msprime/docs/stable/ancestry.html#) of 5 samples. The call to [msprime.sim_ancestry](https://tskit.dev/msprime/docs/stable/api.html#msprime.sim_ancestry) will return a so-called [tree sequence](https://tskit.dev/learn/), which we will call `ts`. "
   ]
  },
  {
   "cell_type": "code",
   "execution_count": null,
   "id": "50e59ed4",
   "metadata": {},
   "outputs": [],
   "source": [
    "ts = msprime.sim_ancestry(samples=5, ploidy=1, random_seed=123456)"
   ]
  },
  {
   "cell_type": "markdown",
   "id": "8e0a3a01",
   "metadata": {},
   "source": [
    "By default, `msprime` assumes a ploidy of 2, which is why we have to manually pass the `ploidy` parameter. In addition, by setting the `random_seed`, we make sure simulation output can be reproduced. Let's print the output object:"
   ]
  },
  {
   "cell_type": "code",
   "execution_count": null,
   "id": "a8279818",
   "metadata": {},
   "outputs": [],
   "source": [
    "ts"
   ]
  },
  {
   "cell_type": "markdown",
   "id": "d764d70c",
   "metadata": {},
   "source": [
    "The `ts` object is an instance of the [Tree Sequence](https://tskit.dev/tskit/docs/latest/python-api.html#the-treesequence-class) class. Briefly, it consists of metadata, such as the `Sequence Length` or `Time Units`, and a number of tables, such as the `Edges` (the equivalent of our `branches`), `Nodes`, and `Mutations` table. The metadata and tables can be accessed with identically-named properties or functions on `ts` (where spaces have been replaced by underscores), e.g.,"
   ]
  },
  {
   "cell_type": "code",
   "execution_count": null,
   "id": "3d0ab62d",
   "metadata": {},
   "outputs": [],
   "source": [
    "print(ts.sequence_length)\n",
    "print(ts.time_units)\n",
    "for ind in ts.individuals():\n",
    "    print(ind)"
   ]
  },
  {
   "cell_type": "markdown",
   "id": "2058cf6c",
   "metadata": {},
   "source": [
    "So, an individual carries an `id`, a reference to `parents`, `nodes`, and other information. In addition to the properties and functions that map to the metadata and table names, there are a number of convenience functions that provide shortcut access to quantities of interest, e.g., `ts.num_individuals` and `ts.num_populations`:"
   ]
  },
  {
   "cell_type": "code",
   "execution_count": null,
   "id": "86b2647c",
   "metadata": {
    "scrolled": true
   },
   "outputs": [],
   "source": [
    "ts.num_individuals, ts.num_populations"
   ]
  },
  {
   "cell_type": "markdown",
   "id": "ce268278",
   "metadata": {},
   "source": [
    "You can find all properties and functions defined on `ts` by using the python builtin `dir`:"
   ]
  },
  {
   "cell_type": "code",
   "execution_count": null,
   "id": "3580295d",
   "metadata": {
    "scrolled": true
   },
   "outputs": [],
   "source": [
    "dir(ts)"
   ]
  },
  {
   "cell_type": "markdown",
   "id": "fcf4b4bf",
   "metadata": {},
   "source": [
    "Let's find some more information from the tables."
   ]
  },
  {
   "cell_type": "code",
   "execution_count": null,
   "id": "0011411e",
   "metadata": {},
   "outputs": [],
   "source": [
    "workbook.question(\"tskit_tables\")"
   ]
  },
  {
   "cell_type": "markdown",
   "id": "7b33ee31",
   "metadata": {},
   "source": [
    "There (of course) exists functionality to easily plot a genealogy. The `ts` object has several `draw_` functions, on of which produces svg output:"
   ]
  },
  {
   "cell_type": "code",
   "execution_count": null,
   "id": "39505de7",
   "metadata": {},
   "outputs": [],
   "source": [
    "ts.draw_svg()"
   ]
  },
  {
   "cell_type": "markdown",
   "id": "4a45ae65",
   "metadata": {},
   "source": [
    "Apart from showing the genealogy, there is a genome coordinate system, \n",
    "showing the simulations assume a sequence of length 1 nucleotide by default."
   ]
  },
  {
   "cell_type": "markdown",
   "id": "224efff2",
   "metadata": {},
   "source": [
    "### Adding mutations\n",
    "\n",
    "As before, we add mutations with a `sim_mutations` function, [msprime.sim_mutations](https://tskit.dev/msprime/docs/stable/api.html#msprime.sim_mutations):"
   ]
  },
  {
   "cell_type": "code",
   "execution_count": null,
   "id": "c23b14bc",
   "metadata": {},
   "outputs": [],
   "source": [
    "mutated_ts = msprime.sim_mutations(ts, rate=0.5, random_seed=54321)"
   ]
  },
  {
   "cell_type": "markdown",
   "id": "4a1e1cf4",
   "metadata": {},
   "source": [
    "Here, we specify the mutation rate via the `rate` parameter, which according to the docs is \"The rate of mutation per unit of sequence length per unit time\" (try varying this parameter and see how it affects the illustrated genealogy below):"
   ]
  },
  {
   "cell_type": "code",
   "execution_count": null,
   "id": "b72e8425",
   "metadata": {},
   "outputs": [],
   "source": [
    "mutated_ts.draw_svg(size=(500, 300))"
   ]
  },
  {
   "cell_type": "markdown",
   "id": "2da7f8d1",
   "metadata": {},
   "source": [
    "Here we increase the size of the plot to see the details better. To begin with, a mutation is indicated with a red `x`. In addition, the mutations are numbered, such that the ordering along a genetic sequence is explicit. Finally, at genome position 0 you see <em>&or;</em> marks that indicate the position of a mutation.\n",
    "\n",
    "The latter point can also be illustrated by printing all the mutations, as follows (note the information in `site`):\n"
   ]
  },
  {
   "cell_type": "code",
   "execution_count": null,
   "id": "44838798",
   "metadata": {
    "scrolled": false
   },
   "outputs": [],
   "source": [
    "for mut in mutated_ts.mutations():\n",
    "    print(mut)"
   ]
  },
  {
   "cell_type": "markdown",
   "id": "5379ab52",
   "metadata": {},
   "source": [
    "As before, there are shorthand functions and properties to access quantities of interest, e.g.,\n"
   ]
  },
  {
   "cell_type": "code",
   "execution_count": null,
   "id": "29b8d590",
   "metadata": {},
   "outputs": [],
   "source": [
    "mutated_ts.mutations_time"
   ]
  },
  {
   "cell_type": "markdown",
   "id": "d863c976",
   "metadata": {},
   "source": [
    "### Summary statistics"
   ]
  },
  {
   "cell_type": "markdown",
   "id": "cae10935",
   "metadata": {},
   "source": [
    "There is support for calculating a variety of summary statistics on tree sequences. For instance, to calculate the diversity of `mutated_ts` you can run\n"
   ]
  },
  {
   "cell_type": "code",
   "execution_count": null,
   "id": "bf4b5fe3",
   "metadata": {},
   "outputs": [],
   "source": [
    "mutated_ts.diversity()"
   ]
  },
  {
   "cell_type": "markdown",
   "id": "68dd8e98",
   "metadata": {},
   "source": [
    "<dl class=\"exercise\"><dt>Exercise 2</dt>\n",
    "    <dd>OPTIONAL: verify the diversity using the equation\n",
    "        \n",
    "$$\n",
    "\\pi = \\frac{\\sum_{i=1}^{n-1}i(n-i)\\xi_i}{n(n-1)/2}\n",
    "$$\n",
    "        \n",
    "Here, $\\xi_i$ is the tally of the number of mutations that occur in $i$ samples (the *site frequency spectrum*). Recall that the `diversity` function reports a *per-site* statistic!\n",
    "    </dd>\n",
    "    </dl>"
   ]
  },
  {
   "cell_type": "markdown",
   "id": "2e09092d",
   "metadata": {},
   "source": [
    "## More realistic simulations\n",
    "\n",
    "So far we have basically demonstrated how our homemade simulations look in msprime. However, the msprime versions of [sim_ancestry](https://tskit.dev/msprime/docs/stable/api.html#msprime.sim_ancestry) and [sim_mutations](https://tskit.dev/msprime/docs/stable/api.html#msprime.sim_mutations) provide many more options than our functions, and simulations can accomodate much more complex and realistic scenarios, such as *recombination*, *migration*, *demographic changes*, in some cases *selection*, and more. Briefly skim the API documentation by following the links above to get an overview of what these functions can do."
   ]
  },
  {
   "cell_type": "markdown",
   "id": "23a5eb02",
   "metadata": {},
   "source": [
    "### Diploid simulations\n",
    "\n",
    "Until now, we have focused on haploid individuals. In order to introduce recombination, we shift to diploids, which is in fact the [default setting in msprime](https://tskit.dev/msprime/docs/stable/ancestry.html#ploidy). Since a node corresponds to one chromosome, this means an individual is related to two nodes in a tree.\n",
    "\n"
   ]
  },
  {
   "cell_type": "code",
   "execution_count": null,
   "id": "5f3d09b1",
   "metadata": {},
   "outputs": [],
   "source": [
    "ts = msprime.sim_ancestry(samples=2, random_seed=23423)\n",
    "print(ts.tables.individuals)\n",
    "print(ts.tables.nodes)"
   ]
  },
  {
   "cell_type": "markdown",
   "id": "71a54db9",
   "metadata": {},
   "source": [
    "Note the individual ids and how they relate to the node ids."
   ]
  },
  {
   "cell_type": "markdown",
   "id": "86cbc46c",
   "metadata": {},
   "source": [
    "### Sequence length\n",
    "\n",
    "By default sequences in `msprime` correspond to nucleotides. Let's specify a longer sequence with the parameter `sequence_length`. Note how the genome coordinates change in the resulting plot.\n"
   ]
  },
  {
   "cell_type": "code",
   "execution_count": null,
   "id": "f69b271e",
   "metadata": {},
   "outputs": [],
   "source": [
    "small_ts = msprime.sim_ancestry(samples=5,\n",
    "                          sequence_length=1_000,\n",
    "                          random_seed=123456)\n",
    "small_ts.draw_svg()"
   ]
  },
  {
   "cell_type": "markdown",
   "id": "e00a6f48",
   "metadata": {},
   "source": [
    "### Recombination\n"
   ]
  },
  {
   "cell_type": "markdown",
   "id": "2ea50997",
   "metadata": {},
   "source": [
    "Sofar the tree sequence consists of one tree, which corresponds to a non-recombining sequence. We can set the `recombination_rate` parameter to add recombination. We also increase the sequence length to increase the probability that recombination occurs."
   ]
  },
  {
   "cell_type": "code",
   "execution_count": null,
   "id": "06e56903",
   "metadata": {},
   "outputs": [],
   "source": [
    "ts = msprime.sim_ancestry(samples=5,\n",
    "                          sequence_length=10_000,\n",
    "                          recombination_rate=1e-5, # set a high rate \n",
    "                          random_seed=12353\n",
    "                         )\n",
    "ts.draw_svg(size=(600, 300))"
   ]
  },
  {
   "cell_type": "markdown",
   "id": "940be3bd",
   "metadata": {},
   "source": [
    "### Population information"
   ]
  },
  {
   "cell_type": "markdown",
   "id": "f5853048",
   "metadata": {},
   "source": [
    "Sofar, we have not mentioned population size in our simulations, but this is something we would like to do since this parameter affects the dynamics of the system. We can set the population size with the `population_size` option, which corresponds to the *effective population size* $N_e$: "
   ]
  },
  {
   "cell_type": "code",
   "execution_count": null,
   "id": "f3d81f2d",
   "metadata": {},
   "outputs": [],
   "source": [
    "ts = msprime.sim_ancestry"
   ]
  },
  {
   "cell_type": "markdown",
   "id": "a3c84a76",
   "metadata": {},
   "source": [
    "### Adding mutations"
   ]
  },
  {
   "cell_type": "markdown",
   "id": "b8329834",
   "metadata": {},
   "source": [
    "Now we add mutations to the simulated ancestry. However, now that we have specified a 10kb sequence, we have to adjust the mutation rate from the previous value 0.5 (recall, it is the rate per base per generation) to something lower. We set the `rate` to $2^{-5}$, which would give on average two mutations.\n"
   ]
  },
  {
   "cell_type": "code",
   "execution_count": null,
   "id": "080a0186",
   "metadata": {},
   "outputs": [],
   "source": [
    "mutated_ts = msprime.sim_mutations(ts, rate=2e-5, random_seed=654321)"
   ]
  },
  {
   "cell_type": "code",
   "execution_count": null,
   "id": "4a263bea",
   "metadata": {},
   "outputs": [],
   "source": [
    "mutated_ts.draw_svg(size=(400, 300))"
   ]
  },
  {
   "cell_type": "markdown",
   "id": "088be7fa",
   "metadata": {},
   "source": [
    "QUESTION: what are the arrows and where are the mutations located"
   ]
  },
  {
   "cell_type": "code",
   "execution_count": null,
   "id": "c41bf3dc",
   "metadata": {},
   "outputs": [],
   "source": [
    "ts = msprime.sim_ancestry(samples=5, random_seed=123, sequence_length=1000)\n",
    "mutated_ts = msprime.sim_mutations(ts, rate=2e-4, random_seed=654)"
   ]
  },
  {
   "cell_type": "code",
   "execution_count": null,
   "id": "c9e88c15",
   "metadata": {},
   "outputs": [],
   "source": [
    "SVG(mutated_ts.draw_svg())"
   ]
  },
  {
   "cell_type": "markdown",
   "id": "3e2c1831",
   "metadata": {},
   "source": [
    "QUESTION: how many samples? how many nodes? how are they related?"
   ]
  },
  {
   "cell_type": "markdown",
   "id": "f3bd4540",
   "metadata": {},
   "source": [
    "## Simulating with recombination\n",
    "\n",
    "msprime "
   ]
  },
  {
   "cell_type": "markdown",
   "id": "99ee4cc0",
   "metadata": {},
   "source": [
    "# Acknowledgement\n",
    "\n",
    "This tutorial is based on and draws from Yan Wong's [introduction to genome simulation](https://hyanwong.github.io/workshop-pages/lab?path=WkBook2.ipynb)"
   ]
  }
 ],
 "metadata": {
  "kernelspec": {
   "display_name": "Python (pgip-jlite)",
   "language": "python",
   "name": "pgip-jlite"
  },
  "language_info": {
   "codemirror_mode": {
    "name": "ipython",
    "version": 3
   },
   "file_extension": ".py",
   "mimetype": "text/x-python",
   "name": "python",
   "nbconvert_exporter": "python",
   "pygments_lexer": "ipython3",
   "version": "3.10.11"
  }
 },
 "nbformat": 4,
 "nbformat_minor": 5
}
