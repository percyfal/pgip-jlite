{
 "cells": [
  {
   "cell_type": "markdown",
   "id": "46556514",
   "metadata": {},
   "source": [
    "# An introduction to simulations with msprime"
   ]
  },
  {
   "cell_type": "markdown",
   "id": "a2bdf30f",
   "metadata": {},
   "source": [
    "The goal of this notebook is to introduce msprime but linking it to the lectures and in particular the Wright-Fisher model. We will perform the same build-up as we did with the WF. \n",
    "\n",
    "Dependencies: plotting\n",
    "\n",
    "1. Ancestry simulations - making genealogies\n",
    "2. Adding mutations\n",
    "3. Plotting trees"
   ]
  },
  {
   "cell_type": "code",
   "execution_count": null,
   "id": "12344a8d",
   "metadata": {},
   "outputs": [],
   "source": [
    "from IPython.display import SVG, display\n",
    "import tskit\n",
    "import msprime\n",
    "import tqdm\n",
    "\n",
    "# The two lines below required for JupyterLite\n",
    "import micropip\n",
    "await micropip.install('jupyterquiz')\n",
    "\n",
    "# Add local code here\n",
    "#import genealogical_analysis_workshop\n",
    "\n",
    "#workbook = genealogical_analysis_workshop.setup_workbook1()\n",
    "#display(workbook.setup)"
   ]
  },
  {
   "cell_type": "code",
   "execution_count": null,
   "id": "44838798",
   "metadata": {},
   "outputs": [],
   "source": [
    "ts = msprime.sim_ancestry(3)\n",
    "ts"
   ]
  },
  {
   "cell_type": "code",
   "execution_count": null,
   "id": "91a7b0fc",
   "metadata": {},
   "outputs": [],
   "source": [
    "SVG(ts.draw_svg(size=(600, 200)))"
   ]
  }
 ],
 "metadata": {
  "kernelspec": {
   "display_name": "Python (pgip-jlite)",
   "language": "python",
   "name": "pgip-jlite"
  },
  "language_info": {
   "codemirror_mode": {
    "name": "ipython",
    "version": 3
   },
   "file_extension": ".py",
   "mimetype": "text/x-python",
   "name": "python",
   "nbconvert_exporter": "python",
   "pygments_lexer": "ipython3",
   "version": "3.10.11"
  }
 },
 "nbformat": 4,
 "nbformat_minor": 5
}
