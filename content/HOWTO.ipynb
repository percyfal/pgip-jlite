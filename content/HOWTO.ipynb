{
 "cells": [
  {
   "cell_type": "markdown",
   "id": "d1c01bf0",
   "metadata": {},
   "source": [
    "# HOWTO\n",
    "\n",
    "This document describes the intended use of the [Jupyter](https://jupyter.org/) notebooks (we will also call them <em>workbooks</em>) that we will be using during the exercises. The notebooks are powered by a JupyterLab distribution called [JupyterLite](https://jupyterlite.readthedocs.io/en/latest/) that runs <b>directly in the browser</b>. This means you don't have to install anything on your computer to complete the exercises. You can of course download the notebooks to run locally, but then you yourself have to make sure you have all the necessary dependencies installed. You can install dependencies from the [requirements.txt](https://github.com/percyfal/pgip-jlite/blob/main/requirements.txt) with, e.g., pip:\n",
    "\n",
    "```bash\n",
    "pip install -r requirements.txt\n",
    "```"
   ]
  },
  {
   "cell_type": "markdown",
   "id": "7a4a41ac",
   "metadata": {},
   "source": [
    "## Setup\n",
    "\n",
    "Common to all workbooks is that you will need to initialize them by executing code before proceeding with the actual exercises. A code block like the following one will be present at the top of a workbook; make sure to execute it with <b>&lt;shift&gt;+&lt;return&gt;</b>."
   ]
  },
  {
   "cell_type": "code",
   "execution_count": 1,
   "id": "12465521",
   "metadata": {},
   "outputs": [
    {
     "ename": "KeyError",
     "evalue": "'Q2'",
     "output_type": "error",
     "traceback": [
      "\u001b[0;31m---------------------------------------------------------------------------\u001b[0m",
      "\u001b[0;31mKeyError\u001b[0m                                  Traceback (most recent call last)",
      "Cell \u001b[0;32mIn[1], line 10\u001b[0m\n\u001b[1;32m      8\u001b[0m     \u001b[38;5;28;01mawait\u001b[39;00m micropip\u001b[38;5;241m.\u001b[39minstall(\u001b[38;5;124m'\u001b[39m\u001b[38;5;124mpyyaml\u001b[39m\u001b[38;5;124m'\u001b[39m)\n\u001b[1;32m      9\u001b[0m \u001b[38;5;28;01mimport\u001b[39;00m \u001b[38;5;21;01mworkshop\u001b[39;00m\n\u001b[0;32m---> 10\u001b[0m workbook \u001b[38;5;241m=\u001b[39m \u001b[43mworkshop\u001b[49m\u001b[38;5;241;43m.\u001b[39;49m\u001b[43msetup_howto\u001b[49m\u001b[43m(\u001b[49m\u001b[43m)\u001b[49m\n\u001b[1;32m     11\u001b[0m display(workbook\u001b[38;5;241m.\u001b[39msetup)\n",
      "File \u001b[0;32m~/teaching/pgip/pgip-jlite/content/workshop.py:225\u001b[0m, in \u001b[0;36msetup_howto\u001b[0;34m()\u001b[0m\n\u001b[1;32m    224\u001b[0m \u001b[38;5;28;01mdef\u001b[39;00m \u001b[38;5;21msetup_howto\u001b[39m():\n\u001b[0;32m--> 225\u001b[0m     \u001b[38;5;28;01mreturn\u001b[39;00m \u001b[43mHOWTO\u001b[49m\u001b[43m(\u001b[49m\u001b[43m)\u001b[49m\n",
      "File \u001b[0;32m~/teaching/pgip/pgip-jlite/content/workshop.py:159\u001b[0m, in \u001b[0;36mHOWTO.__init__\u001b[0;34m(self)\u001b[0m\n\u001b[1;32m    157\u001b[0m \u001b[38;5;28;01mdef\u001b[39;00m \u001b[38;5;21m__init__\u001b[39m(\u001b[38;5;28mself\u001b[39m):\n\u001b[1;32m    158\u001b[0m     \u001b[38;5;28msuper\u001b[39m()\u001b[38;5;241m.\u001b[39m\u001b[38;5;21m__init__\u001b[39m()\n\u001b[0;32m--> 159\u001b[0m     \u001b[38;5;28;43mself\u001b[39;49m\u001b[38;5;241;43m.\u001b[39;49m\u001b[43mquiz\u001b[49m\u001b[43m[\u001b[49m\u001b[38;5;124;43m\"\u001b[39;49m\u001b[38;5;124;43mQ2\u001b[39;49m\u001b[38;5;124;43m\"\u001b[39;49m\u001b[43m]\u001b[49m[\u001b[38;5;241m0\u001b[39m][\u001b[38;5;124m\"\u001b[39m\u001b[38;5;124manswers\u001b[39m\u001b[38;5;124m\"\u001b[39m][\u001b[38;5;241m0\u001b[39m][\u001b[38;5;124m\"\u001b[39m\u001b[38;5;124mvalue\u001b[39m\u001b[38;5;124m\"\u001b[39m] \u001b[38;5;241m=\u001b[39m datetime\u001b[38;5;241m.\u001b[39mtoday()\u001b[38;5;241m.\u001b[39mday\n",
      "\u001b[0;31mKeyError\u001b[0m: 'Q2'"
     ]
    }
   ],
   "source": [
    "# Please execute this cell (shift+<Return>) before starting the workbook\n",
    "# this should print out \"Your notebook is ready to go\"\n",
    "import sys\n",
    "if \"pyodide\" in sys.modules:\n",
    "    import tqdm\n",
    "    import micropip\n",
    "    await micropip.install('jupyterquiz')\n",
    "    await micropip.install('pyyaml')\n",
    "import workshop\n",
    "workbook = workshop.setup_howto()\n",
    "display(workbook.setup)"
   ]
  },
  {
   "cell_type": "markdown",
   "id": "973f60f8",
   "metadata": {},
   "source": [
    "## Notebook contents\n",
    "\n",
    "The notebooks consist of cells that are either descriptive text written in markdown format, or code blocks consisting of Python code. Importantly, the code blocks can be usually be executed via the keyboard shortcut <b>&lt;shift&gt;+&lt;return&gt;</b>. The Python code is interpreted and executed by a Python distribution for the browser called [Pyodide](https://pyodide.org/en/stable/). The [python.ipynb](python.ipynb) notebook showcases some of the features of this distribution.\n",
    "\n",
    "The Python code blocks can be edited so you can try out different parameter settings, or even modify code. This will be necessary to complete some of the excercises that are scattered throughout the documents and formatted like this:\n",
    "\n",
    "\n",
    "<dl class=\"exercise\"><dt>Exercise 1</dt>\n",
    "<dd>Read through this document before proceeding with the notebooks</dd>\n",
    "</dl>\n",
    "\n",
    "Some exercises also have associated questions to test your understanding. They consist of code blocks that have to be executed.\n",
    "\n",
    "There are two types of questions: multiple choice and value input. The options to multiple choice questions are displayed as buttons below the question:"
   ]
  },
  {
   "cell_type": "code",
   "execution_count": null,
   "id": "caf8ef7e",
   "metadata": {},
   "outputs": [],
   "source": [
    "# Execute code block with <shift>+Return to display question; press on one of the buttons to answer\n",
    "workbook.question(\"distro\")"
   ]
  },
  {
   "cell_type": "markdown",
   "id": "700d5b49",
   "metadata": {},
   "source": [
    "For value input questions, each question is accompanied by a box. Enter a <b>numeric</b> value in the box and press return to check the answer:"
   ]
  },
  {
   "cell_type": "code",
   "execution_count": null,
   "id": "23ba3afb",
   "metadata": {},
   "outputs": [],
   "source": [
    "# Execute this cell to see the question: enter a value in the box and press return to check the answer\n",
    "workbook.question(\"day\")"
   ]
  },
  {
   "cell_type": "markdown",
   "id": "2913a69c",
   "metadata": {},
   "source": [
    "## Miscellaneous"
   ]
  },
  {
   "cell_type": "markdown",
   "id": "6b422ed7",
   "metadata": {},
   "source": [
    "Special or otherwise important content will sometimes be highlighted in colored boxes. For instance, in the paragraph below you will find information on how to refresh notebooks upon changes made by the teaching staff."
   ]
  },
  {
   "cell_type": "markdown",
   "id": "a68c3f3e",
   "metadata": {},
   "source": [
    "<div class=\"alert alert-block alert-info\"><b>Refreshing content</b>\n",
    "<br/>\n",
    "In case the teachers need to modify and upload new content, you need to know how to refresh your notebook. This is, perhaps somewhat counterintuitively, done by <a href=\"https://jupyterlite.readthedocs.io/en/latest/quickstart/using.html#accessing-existing-files\">deleting the notebook in the file tab</a> in your JupyterLite browser instance.\n",
    "</div>"
   ]
  }
 ],
 "metadata": {
  "kernelspec": {
   "display_name": "Python (pgip-jlite)",
   "language": "python",
   "name": "pgip-jlite"
  },
  "language_info": {
   "codemirror_mode": {
    "name": "ipython",
    "version": 3
   },
   "file_extension": ".py",
   "mimetype": "text/x-python",
   "name": "python",
   "nbconvert_exporter": "python",
   "pygments_lexer": "ipython3",
   "version": "3.10.11"
  }
 },
 "nbformat": 4,
 "nbformat_minor": 5
}
